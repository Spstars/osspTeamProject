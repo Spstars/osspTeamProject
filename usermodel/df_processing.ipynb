{
 "cells": [
  {
   "cell_type": "code",
   "execution_count": 2,
   "id": "7c42a8ea",
   "metadata": {},
   "outputs": [],
   "source": [
    "import pandas as pd"
   ]
  },
  {
   "cell_type": "code",
   "execution_count": null,
   "outputs": [],
   "source": [
    "movies = pd.read_csv('movies.csv')"
   ],
   "metadata": {
    "collapsed": false,
    "pycharm": {
     "name": "#%%\n"
    }
   }
  },
  {
   "cell_type": "code",
   "execution_count": null,
   "outputs": [],
   "source": [
    "r_cols = ['userId', 'movieId', 'rating', 'timestamp']\n",
    "ratings = pd.read_csv('ratings.dat', delimiter='::', names=r_cols, encoding='latin-1')\n",
    "ratings.rating = ratings.rating.apply(lambda x: 1 if x > 4.0 else 0)\n",
    "ratings.rename(columns={'rating': 'is_click'}, inplace=True)"
   ],
   "metadata": {
    "collapsed": false,
    "pycharm": {
     "name": "#%%\n"
    }
   }
  },
  {
   "cell_type": "code",
   "execution_count": null,
   "outputs": [],
   "source": [
    "total = movies.merge(ratings, on='movieId', how=\"inner\")"
   ],
   "metadata": {
    "collapsed": false,
    "pycharm": {
     "name": "#%%\n"
    }
   }
  },
  {
   "cell_type": "code",
   "execution_count": 33,
   "id": "145c6099",
   "metadata": {},
   "outputs": [],
   "source": [
    "movielist = list(total.movieId.value_counts()[:50])"
   ]
  },
  {
   "cell_type": "code",
   "id": "4142acb3",
   "metadata": {
    "pycharm": {
     "name": "#%%\n"
    }
   },
   "source": [
    "total = total.loc[total.movieId.isin(movielist), :]"
   ],
   "execution_count": 34,
   "outputs": []
  },
  {
   "cell_type": "code",
   "execution_count": 36,
   "id": "48e968b9",
   "metadata": {},
   "outputs": [],
   "source": [
    "total.reset_index(drop=True, inplace=True)"
   ]
  },
  {
   "cell_type": "code",
   "execution_count": 37,
   "id": "c194b7b8",
   "metadata": {},
   "outputs": [],
   "source": [
    "user = list(total.sort_values(by='userId', ascending=True).userId)\n",
    "user_new_index = []\n",
    "user_new_index.append(0)\n",
    "i = 0\n",
    "for u in range(len(user)-1):\n",
    "    if user[u] == user[u+1]:\n",
    "        user_new_index.append(i)\n",
    "    else:\n",
    "        i += 1\n",
    "        user_new_index.append(i)"
   ]
  },
  {
   "cell_type": "code",
   "execution_count": 38,
   "id": "5fac7f64",
   "metadata": {},
   "outputs": [],
   "source": [
    "userid = total.sort_values(by='userId', ascending=True)\n",
    "userid['user_new_index'] = user_new_index\n",
    "total = userid\n",
    "total.sort_index(inplace=True)"
   ]
  },
  {
   "cell_type": "code",
   "execution_count": 39,
   "id": "d5d3cc13",
   "metadata": {},
   "outputs": [],
   "source": [
    "item = list(total.sort_values(by='movieId', ascending=True).movieId)\n",
    "movie_new_index = []\n",
    "movie_new_index.append(0)\n",
    "i = 0\n",
    "for m in range(len(item)-1):\n",
    "    if item[m] == item[m+1]:\n",
    "        movie_new_index.append(i)\n",
    "    else:\n",
    "        i += 1\n",
    "        movie_new_index.append(i)"
   ]
  },
  {
   "cell_type": "code",
   "execution_count": 40,
   "id": "b0c70330",
   "metadata": {},
   "outputs": [],
   "source": [
    "movieid = total.sort_values(by='movieId', ascending=True)\n",
    "movieid['movie_new_index'] = movie_new_index\n",
    "total = movieid\n",
    "total.sort_index(inplace=True)"
   ]
  },
  {
   "cell_type": "code",
   "execution_count": 43,
   "id": "768d04a8",
   "metadata": {},
   "outputs": [],
   "source": [
    "total['user_new_index'] = total['user_new_index'].astype(int)\n",
    "total['movie_new_index'] = total['movie_new_index'].astype(int)"
   ]
  },
  {
   "cell_type": "code",
   "execution_count": 45,
   "outputs": [],
   "source": [
    "total = total.sort_values(by=['user_new_index', 'timestamp'], ascending=True)"
   ],
   "metadata": {
    "collapsed": false,
    "pycharm": {
     "name": "#%%\n"
    }
   }
  },
  {
   "cell_type": "code",
   "execution_count": 57,
   "outputs": [],
   "source": [
    "user_idx = list(total.user_new_index)\n",
    "ts_idx = list(total.timestamp)\n",
    "tmp_user = user_idx[0]\n",
    "tmp_timestamp = ts_idx[0]\n",
    "new_timestamp = []\n",
    "idx = 0\n",
    "for i in range(len(user_idx)):\n",
    "    if user_idx[i] == tmp_user:\n",
    "        if ts_idx[i] < tmp_timestamp + 7200: # 2시간 이내에 평가한 영화에 대해서는 같은 timestamp로 간주\n",
    "            new_timestamp.append(idx)\n",
    "        else:\n",
    "            idx += 1\n",
    "            new_timestamp.append(idx)\n",
    "    else:\n",
    "        idx = 0\n",
    "        new_timestamp.append(idx)\n",
    "    tmp_timestamp = ts_idx[i]\n",
    "    tmp_user = user_idx[i]"
   ],
   "metadata": {
    "collapsed": false,
    "pycharm": {
     "name": "#%%\n"
    }
   }
  },
  {
   "cell_type": "code",
   "execution_count": 59,
   "outputs": [],
   "source": [
    "total['new_timestamp'] = new_timestamp"
   ],
   "metadata": {
    "collapsed": false,
    "pycharm": {
     "name": "#%%\n"
    }
   }
  },
  {
   "cell_type": "code",
   "execution_count": 61,
   "id": "bfabea61",
   "metadata": {},
   "outputs": [],
   "source": [
    "total.reset_index(drop=True, inplace=True)"
   ]
  },
  {
   "cell_type": "code",
   "execution_count": 62,
   "id": "07a79981",
   "metadata": {},
   "outputs": [],
   "source": [
    "total.to_csv(\"data.csv\", index=False)"
   ]
  },
  {
   "cell_type": "code",
   "execution_count": null,
   "id": "a2507f23",
   "metadata": {},
   "outputs": [],
   "source": []
  }
 ],
 "metadata": {
  "kernelspec": {
   "display_name": "Python 3 (ipykernel)",
   "language": "python",
   "name": "python3"
  },
  "language_info": {
   "codemirror_mode": {
    "name": "ipython",
    "version": 3
   },
   "file_extension": ".py",
   "mimetype": "text/x-python",
   "name": "python",
   "nbconvert_exporter": "python",
   "pygments_lexer": "ipython3",
   "version": "3.8.10"
  }
 },
 "nbformat": 4,
 "nbformat_minor": 5
}