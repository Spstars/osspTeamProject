{
 "cells": [
  {
   "cell_type": "code",
   "execution_count": 99,
   "id": "d40446a6",
   "metadata": {},
   "outputs": [],
   "source": [
    "from bs4 import BeautifulSoup\n",
    "import re\n",
    "from requests import request\n",
    "import os\n",
    "import pandas as pd"
   ]
  },
  {
   "cell_type": "code",
   "execution_count": 100,
   "id": "9a1418d7",
   "metadata": {},
   "outputs": [],
   "source": [
    "os.chdir('D:/ml-25m')"
   ]
  },
  {
   "cell_type": "code",
   "execution_count": 89,
   "id": "5483ad79",
   "metadata": {},
   "outputs": [],
   "source": [
    "movies = pd.read_csv('movies.csv')"
   ]
  },
  {
   "cell_type": "code",
   "execution_count": 4,
   "id": "f38f4459",
   "metadata": {},
   "outputs": [],
   "source": [
    "movies.loc[movies.genres.str.contains('no genres listed'), 'genres'] = np.nan"
   ]
  },
  {
   "cell_type": "code",
   "execution_count": 5,
   "id": "d28a2b6f",
   "metadata": {},
   "outputs": [],
   "source": [
    "links = pd.read_csv('links.csv')"
   ]
  },
  {
   "cell_type": "code",
   "execution_count": 6,
   "id": "f48a672e",
   "metadata": {},
   "outputs": [
    {
     "name": "stderr",
     "output_type": "stream",
     "text": [
      "C:\\Users\\USER\\Anaconda3\\lib\\site-packages\\IPython\\core\\interactiveshell.py:3437: DtypeWarning: Columns (7) have mixed types.Specify dtype option on import or set low_memory=False.\n",
      "  exec(code_obj, self.user_global_ns, self.user_ns)\n"
     ]
    }
   ],
   "source": [
    "imdb = pd.read_csv('title_basics.tsv', na_values='\\\\N', sep='\\t')"
   ]
  },
  {
   "cell_type": "code",
   "execution_count": 7,
   "id": "6a37d9b0",
   "metadata": {},
   "outputs": [],
   "source": [
    "imdb.tconst = imdb.tconst.str.replace('tt', '')\n",
    "imdb.tconst = imdb.tconst.astype(np.int64)"
   ]
  },
  {
   "cell_type": "code",
   "execution_count": 8,
   "id": "9a42f17c",
   "metadata": {},
   "outputs": [],
   "source": [
    "imdb.rename(columns={'tconst':'imdbId'}, inplace=True)"
   ]
  },
  {
   "cell_type": "code",
   "execution_count": 9,
   "id": "bd5e36f7",
   "metadata": {
    "collapsed": true
   },
   "outputs": [
    {
     "data": {
      "text/html": [
       "<div>\n",
       "<style scoped>\n",
       "    .dataframe tbody tr th:only-of-type {\n",
       "        vertical-align: middle;\n",
       "    }\n",
       "\n",
       "    .dataframe tbody tr th {\n",
       "        vertical-align: top;\n",
       "    }\n",
       "\n",
       "    .dataframe thead th {\n",
       "        text-align: right;\n",
       "    }\n",
       "</style>\n",
       "<table border=\"1\" class=\"dataframe\">\n",
       "  <thead>\n",
       "    <tr style=\"text-align: right;\">\n",
       "      <th></th>\n",
       "      <th>movieId</th>\n",
       "      <th>imdbId</th>\n",
       "      <th>tmdbId</th>\n",
       "      <th>titleType</th>\n",
       "      <th>primaryTitle</th>\n",
       "      <th>originalTitle</th>\n",
       "      <th>isAdult</th>\n",
       "      <th>startYear</th>\n",
       "      <th>endYear</th>\n",
       "      <th>runtimeMinutes</th>\n",
       "      <th>genres</th>\n",
       "    </tr>\n",
       "  </thead>\n",
       "  <tbody>\n",
       "    <tr>\n",
       "      <th>62319</th>\n",
       "      <td>209157</td>\n",
       "      <td>6671244</td>\n",
       "      <td>499546.0</td>\n",
       "      <td>movie</td>\n",
       "      <td>Wij</td>\n",
       "      <td>Wij</td>\n",
       "      <td>0.0</td>\n",
       "      <td>2018.0</td>\n",
       "      <td>NaN</td>\n",
       "      <td>100.0</td>\n",
       "      <td>Drama</td>\n",
       "    </tr>\n",
       "    <tr>\n",
       "      <th>62320</th>\n",
       "      <td>209159</td>\n",
       "      <td>297986</td>\n",
       "      <td>63407.0</td>\n",
       "      <td>movie</td>\n",
       "      <td>Window of the Soul</td>\n",
       "      <td>Janela da Alma</td>\n",
       "      <td>0.0</td>\n",
       "      <td>2001.0</td>\n",
       "      <td>NaN</td>\n",
       "      <td>73.0</td>\n",
       "      <td>Documentary</td>\n",
       "    </tr>\n",
       "    <tr>\n",
       "      <th>62321</th>\n",
       "      <td>209163</td>\n",
       "      <td>6755366</td>\n",
       "      <td>553036.0</td>\n",
       "      <td>movie</td>\n",
       "      <td>Bad Poems</td>\n",
       "      <td>Rossz versek</td>\n",
       "      <td>0.0</td>\n",
       "      <td>2018.0</td>\n",
       "      <td>NaN</td>\n",
       "      <td>97.0</td>\n",
       "      <td>Comedy,Drama</td>\n",
       "    </tr>\n",
       "    <tr>\n",
       "      <th>62322</th>\n",
       "      <td>209169</td>\n",
       "      <td>249603</td>\n",
       "      <td>162892.0</td>\n",
       "      <td>tvMovie</td>\n",
       "      <td>A Girl Thing</td>\n",
       "      <td>A Girl Thing</td>\n",
       "      <td>0.0</td>\n",
       "      <td>2001.0</td>\n",
       "      <td>NaN</td>\n",
       "      <td>237.0</td>\n",
       "      <td>Comedy,Drama,Romance</td>\n",
       "    </tr>\n",
       "    <tr>\n",
       "      <th>62323</th>\n",
       "      <td>209171</td>\n",
       "      <td>55323</td>\n",
       "      <td>79513.0</td>\n",
       "      <td>movie</td>\n",
       "      <td>Women of Devil's Island</td>\n",
       "      <td>Le prigioniere dell'isola del diavolo</td>\n",
       "      <td>0.0</td>\n",
       "      <td>1962.0</td>\n",
       "      <td>NaN</td>\n",
       "      <td>86.0</td>\n",
       "      <td>Action,Adventure,Drama</td>\n",
       "    </tr>\n",
       "  </tbody>\n",
       "</table>\n",
       "</div>"
      ],
      "text/plain": [
       "       movieId   imdbId    tmdbId titleType             primaryTitle  \\\n",
       "62319   209157  6671244  499546.0     movie                      Wij   \n",
       "62320   209159   297986   63407.0     movie       Window of the Soul   \n",
       "62321   209163  6755366  553036.0     movie                Bad Poems   \n",
       "62322   209169   249603  162892.0   tvMovie             A Girl Thing   \n",
       "62323   209171    55323   79513.0     movie  Women of Devil's Island   \n",
       "\n",
       "                               originalTitle  isAdult  startYear  endYear  \\\n",
       "62319                                    Wij      0.0     2018.0      NaN   \n",
       "62320                         Janela da Alma      0.0     2001.0      NaN   \n",
       "62321                           Rossz versek      0.0     2018.0      NaN   \n",
       "62322                           A Girl Thing      0.0     2001.0      NaN   \n",
       "62323  Le prigioniere dell'isola del diavolo      0.0     1962.0      NaN   \n",
       "\n",
       "      runtimeMinutes                  genres  \n",
       "62319          100.0                   Drama  \n",
       "62320           73.0             Documentary  \n",
       "62321           97.0            Comedy,Drama  \n",
       "62322          237.0    Comedy,Drama,Romance  \n",
       "62323           86.0  Action,Adventure,Drama  "
      ]
     },
     "execution_count": 9,
     "metadata": {},
     "output_type": "execute_result"
    }
   ],
   "source": [
    "merged = links.merge(imdb, on='imdbId', how='inner')"
   ]
  },
  {
   "cell_type": "code",
   "execution_count": 10,
   "id": "12e1842f",
   "metadata": {
    "scrolled": true
   },
   "outputs": [],
   "source": [
    "g_imdb = merged.loc[merged.genres.isnull()==False, ['movieId', 'genres']]\n",
    "g_imdb.genres = g_imdb.genres.str.replace(',', '|')"
   ]
  },
  {
   "cell_type": "code",
   "execution_count": 16,
   "id": "01bad855",
   "metadata": {},
   "outputs": [],
   "source": [
    "movies_merge = movies.merge(g_imdb, on=\"movieId\", how=\"outer\")"
   ]
  },
  {
   "cell_type": "code",
   "execution_count": 24,
   "id": "009364c9",
   "metadata": {},
   "outputs": [],
   "source": [
    "movies_merge.loc[(movies_merge.genres_x.isnull()==True) & (movies_merge.genres_y.isnull()==False), 'genres_x'] = movies_merge.loc[(movies_merge.genres_x.isnull()==True) & (movies_merge.genres_y.isnull()==False), 'genres_y']"
   ]
  },
  {
   "cell_type": "code",
   "execution_count": 27,
   "id": "f88794a9",
   "metadata": {},
   "outputs": [],
   "source": [
    "movies_merge.drop('genres_y', axis=1, inplace=True)\n",
    "movies_merge.rename(columns={'genres_x':'genres'}, inplace=True)"
   ]
  },
  {
   "cell_type": "code",
   "execution_count": 30,
   "id": "da3920b6",
   "metadata": {},
   "outputs": [],
   "source": [
    "to_search = list(movies_merge.loc[movies_merge.genres.isnull()==True, 'title'])"
   ]
  },
  {
   "cell_type": "code",
   "execution_count": 31,
   "id": "33f32956",
   "metadata": {},
   "outputs": [],
   "source": [
    "def get_link(url):\n",
    "    resp = request(url=url, headers=headers, method='GET', allow_redirects=False)\n",
    "    dom = BeautifulSoup(resp.text, 'lxml')\n",
    "    link = base_url + re.findall(r'<a href=\"([\\D\\d\\s]+)\">', str(dom.select('td > a')[1]))[0]\n",
    "    return link"
   ]
  },
  {
   "cell_type": "code",
   "execution_count": 82,
   "id": "ea949957",
   "metadata": {},
   "outputs": [],
   "source": [
    "headers = {\n",
    "    'user-agent': 'Mozilla/5.0 (Windows NT 10.0; Win64; x64) AppleWebKit/537.36 (KHTML, like Gecko) Chrome/96.0.4664.45 Safari/537.36'\n",
    "}\n",
    "base_url =' https://www.imdb.com/'\n",
    "genres = {}\n",
    "not_exist = []\n",
    "for title in to_search:\n",
    "    try:\n",
    "        url = base_url + f'find?q={title}&s=tt&ttype=ft&exact=true&ref_=fn_tt_ex'\n",
    "        link = get_link(url)\n",
    "    except Exception:\n",
    "        try:\n",
    "            url = base_url + f'find?q={title}&s=tt&ttype=ft&ref_=fn_ft'\n",
    "            link = get_link(url)\n",
    "        except Exception:\n",
    "            url = 'https://www.allmovie.com/search/movies/' + title\n",
    "            resp = request(url=url, headers=headers, method='GET', allow_redirects=False)\n",
    "            dom = BeautifulSoup(resp.text, 'lxml')\n",
    "            try: \n",
    "                genre = re.findall(r'<a href=\"[\\d\\D\\s]+\">([\\d\\D\\s]+)</a>', str(dom.find_all('div', {'class': 'genres'})[0]))[0].replace(' &amp; ', '|')\n",
    "            except Exception:\n",
    "                not_exist.append(title)\n",
    "                continue\n",
    "                \n",
    "    resp = request(url=link, headers=headers, method='GET')\n",
    "    dom = BeautifulSoup(resp.text, 'lxml')    \n",
    "    try:\n",
    "        genre = re.findall(r'\\\\\"genre\\\\\":\\[\\\\\"([\\d\\D\\s]+)\\\\\"\\]', str(dom))[0].replace('\\\\\",\\\\\"', '|')\n",
    "    except Exception:\n",
    "        url = 'https://www.allmovie.com/search/movies/' + title\n",
    "        resp = request(url=url, headers=headers, method='GET', allow_redirects=False)\n",
    "        dom = BeautifulSoup(resp.text, 'lxml')\n",
    "        try: \n",
    "            genre = re.findall(r'<a href=\"[\\d\\D\\s]+\">([\\d\\D\\s]+)</a>', str(dom.find_all('div', {'class': 'genres'})[0]))[0].replace(' &amp; ', '|')\n",
    "        except Exception:\n",
    "            not_exist.append(title)\n",
    "            continue\n",
    "    genres[title]=genre"
   ]
  },
  {
   "cell_type": "code",
   "execution_count": 83,
   "id": "f70138a4",
   "metadata": {},
   "outputs": [],
   "source": [
    "for k, v in genres.items():\n",
    "    movies_merge.loc[movies_merge.title ==k, 'genres'] = v"
   ]
  },
  {
   "cell_type": "code",
   "execution_count": 87,
   "id": "aa2cd6ba",
   "metadata": {},
   "outputs": [],
   "source": [
    "movies = movies_merge[movies_merge.title.isin(not_exist) == False]"
   ]
  },
  {
   "cell_type": "code",
   "execution_count": 141,
   "id": "00cd1720",
   "metadata": {},
   "outputs": [],
   "source": [
    "movies.genres = movies.genres.str.replace(\"Music\", \"Musical\")\n",
    "movies.genres = movies.genres.str.replace(\"Musicalal\", \"Musical\")"
   ]
  },
  {
   "cell_type": "code",
   "execution_count": 142,
   "id": "4d128a00",
   "metadata": {},
   "outputs": [],
   "source": [
    "genre_list = [\"Action\", \"Adventure\", \"Animation\", \"Biography\", \"Children\", \"Comedy\", \"Crime\", \"Documentary\", \"Drama\", \"Fantasy\",\n",
    "              \"Film-Noir\", \"History\", \"Horror\", \"Musical\", \"Mystery\", \"Romance\", \"Sport\", \"Sci-Fi\", \"Thriller\", \"War\", \"Western\"]"
   ]
  },
  {
   "cell_type": "code",
   "execution_count": 143,
   "id": "16d69889",
   "metadata": {},
   "outputs": [],
   "source": [
    "genres = movies.genres\n",
    "to_row = [g.split('|') for g in genres]"
   ]
  },
  {
   "cell_type": "code",
   "execution_count": 144,
   "id": "ed5b6dd8",
   "metadata": {},
   "outputs": [],
   "source": [
    "movies.genres = to_row"
   ]
  },
  {
   "cell_type": "code",
   "execution_count": 146,
   "id": "60ccede6",
   "metadata": {},
   "outputs": [],
   "source": [
    "to_drop = []\n",
    "for i, lst in enumerate(list(movies.genres)):\n",
    "    for g in lst:\n",
    "        if g not in genre_list:\n",
    "            lst.remove(g)\n",
    "            \n",
    "    if len(lst) == 0:\n",
    "        to_drop.append(i)"
   ]
  },
  {
   "cell_type": "code",
   "execution_count": 149,
   "id": "85bf3072",
   "metadata": {},
   "outputs": [],
   "source": [
    "movies.drop(to_drop, axis=0, inplace=True)"
   ]
  },
  {
   "cell_type": "code",
   "execution_count": null,
   "id": "274b4e80",
   "metadata": {},
   "outputs": [],
   "source": []
  },
  {
   "cell_type": "code",
   "execution_count": 96,
   "id": "30424567",
   "metadata": {},
   "outputs": [],
   "source": [
    "movies.to_csv('ml-25m.csv', index=False)"
   ]
  }
 ],
 "metadata": {
  "kernelspec": {
   "display_name": "Python 3",
   "language": "python",
   "name": "python3"
  },
  "language_info": {
   "codemirror_mode": {
    "name": "ipython",
    "version": 3
   },
   "file_extension": ".py",
   "mimetype": "text/x-python",
   "name": "python",
   "nbconvert_exporter": "python",
   "pygments_lexer": "ipython3",
   "version": "3.7.4"
  },
  "varInspector": {
   "cols": {
    "lenName": 16,
    "lenType": 16,
    "lenVar": 40
   },
   "kernels_config": {
    "python": {
     "delete_cmd_postfix": "",
     "delete_cmd_prefix": "del ",
     "library": "var_list.py",
     "varRefreshCmd": "print(var_dic_list())"
    },
    "r": {
     "delete_cmd_postfix": ") ",
     "delete_cmd_prefix": "rm(",
     "library": "var_list.r",
     "varRefreshCmd": "cat(var_dic_list()) "
    }
   },
   "types_to_exclude": [
    "module",
    "function",
    "builtin_function_or_method",
    "instance",
    "_Feature"
   ],
   "window_display": false
  }
 },
 "nbformat": 4,
 "nbformat_minor": 5
}
